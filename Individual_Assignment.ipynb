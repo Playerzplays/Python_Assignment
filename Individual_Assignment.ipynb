{
 "cells": [
  {
   "cell_type": "markdown",
   "id": "5f46fad1-84d9-4147-a543-bfe1e98c96f0",
   "metadata": {},
   "source": [
    "Case Study: Helping Hands Community Aid Program\n",
    "The “Helping Hands” community centre runs an essential aid program to support\n",
    "vulnerable families in your local area. They distribute various items, such as food packages,\n",
    "hygiene kits, and blankets. Currently, their inventory and distribution tracking are done\n",
    "manually, leading to inefficiencies and errors.\n",
    "Your task is to develop a program that helps the “Helping Hands” program manage its\n",
    "inventory, register beneficiaries, distribute items, and generate simple reports. This\n",
    "program will allow them to efficiently serve the community and understand their resource\n",
    "usage better.\n",
    "\n",
    "<h1>Part 1: Initial Setup & Inventory Management (30 Marks)</h1>"
   ]
  },
  {
   "cell_type": "code",
   "execution_count": 48,
   "id": "0bb9d84e-d491-4ad7-8e1f-ebb0ed52368e",
   "metadata": {},
   "outputs": [],
   "source": [
    "inventory_stock = {\n",
    "    'Food Package': 100, \n",
    "    'Hygiene Kit': 50, \n",
    "    'Blanket': 30\n",
    "}\n",
    "\n",
    "def add_update_item():\n",
    "    item_name = input('\\nEnter item name to add/update:')\n",
    "    quantity = int(input('Enter item quantity:'))\n",
    "    if item_name in inventory_stock:\n",
    "        inventory_stock[item_name] += quantity\n",
    "        print(f'Stock for {item_name} updated. New Quantity: {inventory_stock[item_name]}')\n",
    "    else:\n",
    "        inventory_stock[item_name] = quantity\n",
    "        print(f\"New item {item_name} added with quantity: {quantity}\")\n",
    "\n",
    "def display_inventory():\n",
    "    print('\\n--- Current Inventory ---')\n",
    "    for k, v in inventory_stock.items():\n",
    "        print(f'{k}: {v} units')\n",
    "    print('-----------------------------\\n')     \n",
    "\n",
    "def main_menu():\n",
    "    while True:\n",
    "        print('\\nPlease select a number from the options below!')\n",
    "        print('1. Add/Update Item Stock')\n",
    "        print('2. Display Current Inventory')\n",
    "        print('3. Beneficiary Management (Part 2)')\n",
    "        print('4. Distribution (Part 3)')\n",
    "        print('5. Reports (Part 4)')\n",
    "        print('0. Exit Program')\n",
    "        choice = int(input('Enter your choice:'))\n",
    "\n",
    "\n",
    "        if choice == 1:\n",
    "            add_update_item()\n",
    "        elif choice == 2:\n",
    "            display_inventory()\n",
    "        elif choice == 3:\n",
    "            while True:\n",
    "                print('\\nYou may select (1), (2) or (3)')\n",
    "                print(\"1. Register New Beneficiary\")\n",
    "                print(\"2. Update Beneficiary Eligibility\")\n",
    "                print(\"3. Exit program\")\n",
    "                sub_choice = int(input(\"Enter your choice:\"))\n",
    "                if sub_choice == 1:\n",
    "                    register_beneficiary()\n",
    "                elif sub_choice == 2:\n",
    "                    update_eligibility()\n",
    "                elif sub_choice == 3:\n",
    "                    break\n",
    "                else:\n",
    "                    print('Invalid Choice, please try again!')\n",
    "        elif choice == 4:\n",
    "            distribute_item()\n",
    "        elif choice == 5:\n",
    "            generate_reports()\n",
    "        elif choice == 0:\n",
    "            print(\"Exiting program. Goodbye!\")\n",
    "            break\n",
    "        else:\n",
    "            print(\"Invalid choice. Please try again.\")"
   ]
  },
  {
   "cell_type": "code",
   "execution_count": 49,
   "id": "92e4f565-3ad0-4f66-b705-5762b99f7cc5",
   "metadata": {},
   "outputs": [
    {
     "name": "stdout",
     "output_type": "stream",
     "text": [
      "\n",
      "Please select a number from the options below!\n",
      "1. Add/Update Item Stock\n",
      "2. Display Current Inventory\n",
      "3. Beneficiary Management (Part 2)\n",
      "4. Distribution (Part 3)\n",
      "5. Reports (Part 4)\n",
      "0. Exit Program\n"
     ]
    },
    {
     "name": "stdin",
     "output_type": "stream",
     "text": [
      "Enter your choice: 3\n"
     ]
    },
    {
     "name": "stdout",
     "output_type": "stream",
     "text": [
      "\n",
      "You may select (1), (2) or (3)\n",
      "1. Register New Beneficiary\n",
      "2. Update Beneficiary Eligibility\n",
      "3. Exit program\n"
     ]
    },
    {
     "name": "stdin",
     "output_type": "stream",
     "text": [
      "Enter your choice: 3\n"
     ]
    },
    {
     "name": "stdout",
     "output_type": "stream",
     "text": [
      "\n",
      "Please select a number from the options below!\n",
      "1. Add/Update Item Stock\n",
      "2. Display Current Inventory\n",
      "3. Beneficiary Management (Part 2)\n",
      "4. Distribution (Part 3)\n",
      "5. Reports (Part 4)\n",
      "0. Exit Program\n"
     ]
    },
    {
     "name": "stdin",
     "output_type": "stream",
     "text": [
      "Enter your choice: 0\n"
     ]
    },
    {
     "name": "stdout",
     "output_type": "stream",
     "text": [
      "Exiting program. Goodbye!\n"
     ]
    }
   ],
   "source": [
    "main_menu()"
   ]
  },
  {
   "cell_type": "markdown",
   "id": "334cbbd7-b4e8-4c69-a674-de39b691a1f0",
   "metadata": {},
   "source": [
    "<h1>Part 2: Beneficiary Registration & Tracking (30 Marks)</h1>"
   ]
  },
  {
   "cell_type": "code",
   "execution_count": 88,
   "id": "da6a6a8b-1a98-4038-bb2a-4545dc28d890",
   "metadata": {},
   "outputs": [],
   "source": [
    "beneficiaries_list = []\n",
    "beneficiary_id = 1\n",
    "\n",
    "def register_beneficiary():\n",
    "    global beneficiary_id\n",
    "    name = input(\"Enter beneficiary name: \")\n",
    "    beneficiary = {\n",
    "        'id': beneficiary_id,\n",
    "        'name': name,\n",
    "        'eligible': True\n",
    "    }\n",
    "    beneficiaries_list.append(beneficiary)\n",
    "    print(f\"Beneficiary has been successfully registered: ID = {beneficiary_id}, Name = {name}\")\n",
    "    beneficiary_id += 1\n",
    "\n",
    "def update_eligibility():\n",
    "    while True:\n",
    "        beneficiary_id_input = input(\"Enter beneficiary ID to update eligibility: \")\n",
    "        if beneficiary_id_input.isdigit():\n",
    "            beneficiary_id = int(beneficiary_id_input)\n",
    "            break\n",
    "        else:\n",
    "            print(\"Invalid ID. Please enter a number.\")\n",
    "\n",
    "    found = False\n",
    "\n",
    "    for b in beneficiaries_list:\n",
    "        if b['id'] == beneficiary_id:\n",
    "            print('Found it!')         \n",
    "            while True:\n",
    "                status_input = input(\"Please enter new eligibility status (True/False): \").strip().lower()\n",
    "                if status_input not in ['true', 'false']:\n",
    "                    print(\"Invalid eligibility status. Please enter 'True' or 'False'.\")\n",
    "                else:\n",
    "                    break\n",
    "        \n",
    "            if status_input == 'true':\n",
    "                status = True\n",
    "            elif status_input == 'false':\n",
    "                status = False            \n",
    "            b['eligible'] = status\n",
    "            print(f\"Beneficiary ID's {beneficiary_id} eligibility is updated to {status}\")\n",
    "            found = True\n",
    "            break\n",
    "\n",
    "    if not found:\n",
    "        print(f\"Beneficiary ID {beneficiary_id} not found.\")"
   ]
  },
  {
   "cell_type": "code",
   "execution_count": 90,
   "id": "ecb0e03d-989a-47b9-b92d-3e6dd0b9b3ea",
   "metadata": {},
   "outputs": [
    {
     "name": "stdin",
     "output_type": "stream",
     "text": [
      "Enter beneficiary name:  john\n"
     ]
    },
    {
     "name": "stdout",
     "output_type": "stream",
     "text": [
      "Beneficiary has been successfully registered: ID = 1, Name = john\n"
     ]
    },
    {
     "name": "stdin",
     "output_type": "stream",
     "text": [
      "Enter beneficiary ID to update eligibility:  2\n"
     ]
    },
    {
     "name": "stdout",
     "output_type": "stream",
     "text": [
      "Beneficiary ID 2 not found.\n"
     ]
    }
   ],
   "source": [
    "register_beneficiary()\n",
    "update_eligibility()"
   ]
  },
  {
   "cell_type": "markdown",
   "id": "ca67960f-4dc7-4c3b-8875-638349782c69",
   "metadata": {},
   "source": [
    "<h1>Part 3: Item Distribution Process (30 Marks)</h1>"
   ]
  },
  {
   "cell_type": "code",
   "execution_count": 92,
   "id": "c6033b92-6ef6-4cd8-99a1-efb7e8f98b84",
   "metadata": {},
   "outputs": [],
   "source": [
    "from datetime import datetime\n",
    "\n",
    "distribution_history = []  #Create list to store distribution records\n",
    "\n",
    "def distribute_item():\n",
    "    while True:\n",
    "        beneficiary_id_input = input(\"Enter beneficiary ID: \")\n",
    "        if beneficiary_id_input.isdigit():\n",
    "            beneficiary_id = int(beneficiary_id_input)\n",
    "            break\n",
    "        else:\n",
    "            print(\"Invalid input. Please enter a valid number for ID.\")\n",
    "\n",
    "    # Check if beneficiary exists\n",
    "    beneficiary = None\n",
    "    for b in beneficiaries_list:\n",
    "        if b['id'] == beneficiary_id:\n",
    "            beneficiary = b\n",
    "            break\n",
    "    if beneficiary is None:\n",
    "        print(\"Beneficiary ID not found.\")\n",
    "        return\n",
    "\n",
    "    # Check eligibility\n",
    "    if not beneficiary['eligible']:\n",
    "        print(\"Beneficiary is not eligible to receive aid.\")\n",
    "        return\n",
    "\n",
    "    # Input and validate item name\n",
    "    item_name = input(\"Enter item name to distribute: \")\n",
    "    if item_name not in inventory_stock:\n",
    "        print(\"Item not found in inventory.\")\n",
    "        return\n",
    "\n",
    "    # Input and validate quantity\n",
    "    while True:\n",
    "        quantity_input = input(\"Enter quantity to distribute: \")\n",
    "        if quantity_input.isdigit():\n",
    "            quantity = int(quantity_input)\n",
    "            break\n",
    "        else:\n",
    "            print(\"Invalid input. Please enter a valid number for quantity.\")\n",
    "\n",
    "    # Check inventory stock\n",
    "    if inventory_stock[item_name] < quantity:\n",
    "        print(\"Insufficient stock available.\")\n",
    "        return\n",
    "\n",
    "    # Process distribution\n",
    "    inventory_stock[item_name] -= quantity\n",
    "    timestamp = datetime.now().strftime(\"%Y-%m-%d %H:%M:%S\")\n",
    "    distribution_history.append((timestamp, beneficiary_id, item_name, quantity))\n",
    "\n",
    "    # Success message\n",
    "    print(f\"Successfully distributed {quantity} of {item_name} to Beneficiary ID {beneficiary_id}.\")"
   ]
  },
  {
   "cell_type": "code",
   "execution_count": 94,
   "id": "c1aad9b2-7258-4344-b784-80657b80dd53",
   "metadata": {},
   "outputs": [
    {
     "name": "stdin",
     "output_type": "stream",
     "text": [
      "Enter beneficiary ID:  1\n",
      "Enter item name to distribute:  Blanket\n",
      "Enter quantity to distribute:  10\n"
     ]
    },
    {
     "name": "stdout",
     "output_type": "stream",
     "text": [
      "Successfully distributed 10 of Blanket to Beneficiary ID 1.\n"
     ]
    }
   ],
   "source": [
    "distribute_item()"
   ]
  },
  {
   "cell_type": "markdown",
   "id": "039f6615-27cc-4483-b529-8b910d96d67e",
   "metadata": {},
   "source": [
    "<h1>Part 4: Reporting & Summary (10 Marks)</h1>"
   ]
  },
  {
   "cell_type": "code",
   "execution_count": 91,
   "id": "13cc20ff-6d97-4f2a-9002-ce3fccd0ef65",
   "metadata": {},
   "outputs": [],
   "source": [
    "def generate_reports():\n",
    "    print(\"\\n=== Helping Hands Summary Report ===\")\n",
    "\n",
    "    # 1. Total number of unique beneficiaries who received aid\n",
    "    unique_beneficiaries = set()\n",
    "    for record in distribution_history:\n",
    "        beneficiary_id = record[1]\n",
    "        unique_beneficiaries.add(beneficiary_id)\n",
    "    print(f\"\\nTotal unique beneficiaries who received aid: {len(unique_beneficiaries)}\")\n",
    "\n",
    "    # 2. Total quantity of each item distributed\n",
    "    distributed_totals = {}\n",
    "    for timestamp, beneficiary_id, item_name, quantity in distribution_history:\n",
    "        if item_name in distributed_totals:\n",
    "            distributed_totals[item_name] += quantity\n",
    "        else:\n",
    "            distributed_totals[item_name] = quantity\n",
    "\n",
    "    print(\"\\nTotal quantity distributed per item:\")\n",
    "    for item_name, total in distributed_totals.items():\n",
    "        print(f\"- {item_name}: {total} units\")\n",
    "\n",
    "    # 3. List items that are out of stock\n",
    "    out_of_stock = [item for item, qty in inventory_stock.items() if qty == 0]\n",
    "    if out_of_stock:\n",
    "        print(\"\\nItems currently out of stock:\")\n",
    "        for item in out_of_stock:\n",
    "            print(f\"- {item}\")\n",
    "    else:\n",
    "        print(\"\\nAll items are currently in stock.\")\n",
    "\n",
    "    print(\"======================================\\n\")"
   ]
  },
  {
   "cell_type": "code",
   "execution_count": 95,
   "id": "18ab58f4-c0ac-4274-80d9-ac059fc6b032",
   "metadata": {},
   "outputs": [
    {
     "name": "stdout",
     "output_type": "stream",
     "text": [
      "\n",
      "=== Helping Hands Summary Report ===\n",
      "\n",
      "Total unique beneficiaries who received aid: 1\n",
      "\n",
      "Total quantity distributed per item:\n",
      "- Blanket: 10 units\n",
      "\n",
      "All items are currently in stock.\n",
      "======================================\n",
      "\n"
     ]
    }
   ],
   "source": [
    "generate_reports()"
   ]
  }
 ],
 "metadata": {
  "kernelspec": {
   "display_name": "Python 3 (ipykernel)",
   "language": "python",
   "name": "python3"
  },
  "language_info": {
   "codemirror_mode": {
    "name": "ipython",
    "version": 3
   },
   "file_extension": ".py",
   "mimetype": "text/x-python",
   "name": "python",
   "nbconvert_exporter": "python",
   "pygments_lexer": "ipython3",
   "version": "3.13.4"
  }
 },
 "nbformat": 4,
 "nbformat_minor": 5
}
